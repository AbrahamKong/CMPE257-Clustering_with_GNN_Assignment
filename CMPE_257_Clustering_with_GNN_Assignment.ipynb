{
  "nbformat": 4,
  "nbformat_minor": 0,
  "metadata": {
    "colab": {
      "name": "CMPE_257_Clustering_with_GNN_Assignment",
      "provenance": [],
      "authorship_tag": "ABX9TyObE3jbFQwCvaeglD0Xf05g",
      "include_colab_link": true
    },
    "kernelspec": {
      "name": "python3",
      "display_name": "Python 3"
    },
    "language_info": {
      "name": "python"
    }
  },
  "cells": [
    {
      "cell_type": "markdown",
      "metadata": {
        "id": "view-in-github",
        "colab_type": "text"
      },
      "source": [
        "<a href=\"https://colab.research.google.com/github/AbrahamKong/CMPE257-Clustering_with_GNN_Assignment/blob/main/CMPE_257_Clustering_with_GNN_Assignment.ipynb\" target=\"_parent\"><img src=\"https://colab.research.google.com/assets/colab-badge.svg\" alt=\"Open In Colab\"/></a>"
      ]
    },
    {
      "cell_type": "code",
      "execution_count": 1,
      "metadata": {
        "id": "Bj8-01lobaB-"
      },
      "outputs": [],
      "source": [
        "# Data Source\n",
        "# https://www.kaggle.com/olistbr/brazilian-ecommerce?select=olist_geolocation_dataset.csv"
      ]
    },
    {
      "cell_type": "code",
      "source": [
        "%matplotlib inline\n",
        "import matplotlib.pyplot as plt\n",
        "import pandas as pd\n",
        "import numpy as np\n",
        "import matplotlib.pyplot as plt\n",
        "from sklearn import metrics\n",
        "from sklearn.cluster import KMeans"
      ],
      "metadata": {
        "id": "WsuWW5QI0TuI"
      },
      "execution_count": 2,
      "outputs": []
    },
    {
      "cell_type": "code",
      "source": [
        "# Read in Data\n",
        "df = pd.read_csv(\"/content/olist_geolocation_dataset.csv\")\n",
        "df.head()"
      ],
      "metadata": {
        "colab": {
          "base_uri": "https://localhost:8080/",
          "height": 206
        },
        "id": "PZ3m2ewq5Zbp",
        "outputId": "cf5c35a8-1cb2-4568-fbe7-c7abb6ef224a"
      },
      "execution_count": 3,
      "outputs": [
        {
          "output_type": "execute_result",
          "data": {
            "text/html": [
              "\n",
              "  <div id=\"df-d2cb6d05-e801-477a-8663-ff4e4c869043\">\n",
              "    <div class=\"colab-df-container\">\n",
              "      <div>\n",
              "<style scoped>\n",
              "    .dataframe tbody tr th:only-of-type {\n",
              "        vertical-align: middle;\n",
              "    }\n",
              "\n",
              "    .dataframe tbody tr th {\n",
              "        vertical-align: top;\n",
              "    }\n",
              "\n",
              "    .dataframe thead th {\n",
              "        text-align: right;\n",
              "    }\n",
              "</style>\n",
              "<table border=\"1\" class=\"dataframe\">\n",
              "  <thead>\n",
              "    <tr style=\"text-align: right;\">\n",
              "      <th></th>\n",
              "      <th>geolocation_zip_code_prefix</th>\n",
              "      <th>geolocation_lat</th>\n",
              "      <th>geolocation_lng</th>\n",
              "      <th>geolocation_city</th>\n",
              "      <th>geolocation_state</th>\n",
              "    </tr>\n",
              "  </thead>\n",
              "  <tbody>\n",
              "    <tr>\n",
              "      <th>0</th>\n",
              "      <td>1037</td>\n",
              "      <td>-23.545621</td>\n",
              "      <td>-46.639292</td>\n",
              "      <td>sao paulo</td>\n",
              "      <td>SP</td>\n",
              "    </tr>\n",
              "    <tr>\n",
              "      <th>1</th>\n",
              "      <td>1046</td>\n",
              "      <td>-23.546081</td>\n",
              "      <td>-46.644820</td>\n",
              "      <td>sao paulo</td>\n",
              "      <td>SP</td>\n",
              "    </tr>\n",
              "    <tr>\n",
              "      <th>2</th>\n",
              "      <td>1046</td>\n",
              "      <td>-23.546129</td>\n",
              "      <td>-46.642951</td>\n",
              "      <td>sao paulo</td>\n",
              "      <td>SP</td>\n",
              "    </tr>\n",
              "    <tr>\n",
              "      <th>3</th>\n",
              "      <td>1041</td>\n",
              "      <td>-23.544392</td>\n",
              "      <td>-46.639499</td>\n",
              "      <td>sao paulo</td>\n",
              "      <td>SP</td>\n",
              "    </tr>\n",
              "    <tr>\n",
              "      <th>4</th>\n",
              "      <td>1035</td>\n",
              "      <td>-23.541578</td>\n",
              "      <td>-46.641607</td>\n",
              "      <td>sao paulo</td>\n",
              "      <td>SP</td>\n",
              "    </tr>\n",
              "  </tbody>\n",
              "</table>\n",
              "</div>\n",
              "      <button class=\"colab-df-convert\" onclick=\"convertToInteractive('df-d2cb6d05-e801-477a-8663-ff4e4c869043')\"\n",
              "              title=\"Convert this dataframe to an interactive table.\"\n",
              "              style=\"display:none;\">\n",
              "        \n",
              "  <svg xmlns=\"http://www.w3.org/2000/svg\" height=\"24px\"viewBox=\"0 0 24 24\"\n",
              "       width=\"24px\">\n",
              "    <path d=\"M0 0h24v24H0V0z\" fill=\"none\"/>\n",
              "    <path d=\"M18.56 5.44l.94 2.06.94-2.06 2.06-.94-2.06-.94-.94-2.06-.94 2.06-2.06.94zm-11 1L8.5 8.5l.94-2.06 2.06-.94-2.06-.94L8.5 2.5l-.94 2.06-2.06.94zm10 10l.94 2.06.94-2.06 2.06-.94-2.06-.94-.94-2.06-.94 2.06-2.06.94z\"/><path d=\"M17.41 7.96l-1.37-1.37c-.4-.4-.92-.59-1.43-.59-.52 0-1.04.2-1.43.59L10.3 9.45l-7.72 7.72c-.78.78-.78 2.05 0 2.83L4 21.41c.39.39.9.59 1.41.59.51 0 1.02-.2 1.41-.59l7.78-7.78 2.81-2.81c.8-.78.8-2.07 0-2.86zM5.41 20L4 18.59l7.72-7.72 1.47 1.35L5.41 20z\"/>\n",
              "  </svg>\n",
              "      </button>\n",
              "      \n",
              "  <style>\n",
              "    .colab-df-container {\n",
              "      display:flex;\n",
              "      flex-wrap:wrap;\n",
              "      gap: 12px;\n",
              "    }\n",
              "\n",
              "    .colab-df-convert {\n",
              "      background-color: #E8F0FE;\n",
              "      border: none;\n",
              "      border-radius: 50%;\n",
              "      cursor: pointer;\n",
              "      display: none;\n",
              "      fill: #1967D2;\n",
              "      height: 32px;\n",
              "      padding: 0 0 0 0;\n",
              "      width: 32px;\n",
              "    }\n",
              "\n",
              "    .colab-df-convert:hover {\n",
              "      background-color: #E2EBFA;\n",
              "      box-shadow: 0px 1px 2px rgba(60, 64, 67, 0.3), 0px 1px 3px 1px rgba(60, 64, 67, 0.15);\n",
              "      fill: #174EA6;\n",
              "    }\n",
              "\n",
              "    [theme=dark] .colab-df-convert {\n",
              "      background-color: #3B4455;\n",
              "      fill: #D2E3FC;\n",
              "    }\n",
              "\n",
              "    [theme=dark] .colab-df-convert:hover {\n",
              "      background-color: #434B5C;\n",
              "      box-shadow: 0px 1px 3px 1px rgba(0, 0, 0, 0.15);\n",
              "      filter: drop-shadow(0px 1px 2px rgba(0, 0, 0, 0.3));\n",
              "      fill: #FFFFFF;\n",
              "    }\n",
              "  </style>\n",
              "\n",
              "      <script>\n",
              "        const buttonEl =\n",
              "          document.querySelector('#df-d2cb6d05-e801-477a-8663-ff4e4c869043 button.colab-df-convert');\n",
              "        buttonEl.style.display =\n",
              "          google.colab.kernel.accessAllowed ? 'block' : 'none';\n",
              "\n",
              "        async function convertToInteractive(key) {\n",
              "          const element = document.querySelector('#df-d2cb6d05-e801-477a-8663-ff4e4c869043');\n",
              "          const dataTable =\n",
              "            await google.colab.kernel.invokeFunction('convertToInteractive',\n",
              "                                                     [key], {});\n",
              "          if (!dataTable) return;\n",
              "\n",
              "          const docLinkHtml = 'Like what you see? Visit the ' +\n",
              "            '<a target=\"_blank\" href=https://colab.research.google.com/notebooks/data_table.ipynb>data table notebook</a>'\n",
              "            + ' to learn more about interactive tables.';\n",
              "          element.innerHTML = '';\n",
              "          dataTable['output_type'] = 'display_data';\n",
              "          await google.colab.output.renderOutput(dataTable, element);\n",
              "          const docLink = document.createElement('div');\n",
              "          docLink.innerHTML = docLinkHtml;\n",
              "          element.appendChild(docLink);\n",
              "        }\n",
              "      </script>\n",
              "    </div>\n",
              "  </div>\n",
              "  "
            ],
            "text/plain": [
              "   geolocation_zip_code_prefix  ...  geolocation_state\n",
              "0                         1037  ...                 SP\n",
              "1                         1046  ...                 SP\n",
              "2                         1046  ...                 SP\n",
              "3                         1041  ...                 SP\n",
              "4                         1035  ...                 SP\n",
              "\n",
              "[5 rows x 5 columns]"
            ]
          },
          "metadata": {},
          "execution_count": 3
        }
      ]
    },
    {
      "cell_type": "code",
      "source": [
        "# # Check for null data\n",
        "\n",
        "# df.isnull().sum()"
      ],
      "metadata": {
        "id": "j1vMVLWdpev6"
      },
      "execution_count": 4,
      "outputs": []
    },
    {
      "cell_type": "code",
      "source": [
        "# discard un-used data and prepare data for K-means clustering\n",
        "X = df.drop(columns=['geolocation_zip_code_prefix', 'geolocation_city', 'geolocation_state']).to_numpy()\n",
        "X"
      ],
      "metadata": {
        "colab": {
          "base_uri": "https://localhost:8080/"
        },
        "id": "2F4Z3qfI91SS",
        "outputId": "7fd67dcc-f2bb-4c2e-f2e6-94f7aa41a95a"
      },
      "execution_count": 5,
      "outputs": [
        {
          "output_type": "execute_result",
          "data": {
            "text/plain": [
              "array([[-23.54562128, -46.63929205],\n",
              "       [-23.54608113, -46.6448203 ],\n",
              "       [-23.54612897, -46.64295148],\n",
              "       ...,\n",
              "       [-28.07185542, -52.01471587],\n",
              "       [-28.38893188, -51.84687132],\n",
              "       [-28.07010363, -52.01865773]])"
            ]
          },
          "metadata": {},
          "execution_count": 5
        }
      ]
    },
    {
      "cell_type": "code",
      "source": [
        "# Visualize the data\n",
        "plt.scatter(X[:, 0], X[:, 1], label='True Position')"
      ],
      "metadata": {
        "id": "gNCk6aFAC9mj",
        "colab": {
          "base_uri": "https://localhost:8080/",
          "height": 282
        },
        "outputId": "27a739c2-e9a2-43f0-abb9-7861e07fe6af"
      },
      "execution_count": 6,
      "outputs": [
        {
          "output_type": "execute_result",
          "data": {
            "text/plain": [
              "<matplotlib.collections.PathCollection at 0x7f018902b690>"
            ]
          },
          "metadata": {},
          "execution_count": 6
        },
        {
          "output_type": "display_data",
          "data": {
            "image/png": "[encoded data removed]",
            "text/plain": [
              "<Figure size 432x288 with 1 Axes>"
            ]
          },
          "metadata": {
            "needs_background": "light"
          }
        }
      ]
    },
    {
      "cell_type": "markdown",
      "source": [
        "###K-Means###"
      ],
      "metadata": {
        "id": "MSORBdMcGrlK"
      }
    },
    {
      "cell_type": "code",
      "source": [
        "# Use Elbow Method to decide which is the best K\n",
        "# By Eyeballing the data, guess the best K should falls between 2 - 6\n",
        "\n",
        "inertias = []\n",
        "for i in range (2, 7):\n",
        "  k_means = KMeans(n_clusters=i)\n",
        "  k_means.fit(X)\n",
        "  inertias.append(k_means.inertia_)"
      ],
      "metadata": {
        "id": "IrkJC3mLq2Rl"
      },
      "execution_count": 7,
      "outputs": []
    },
    {
      "cell_type": "code",
      "source": [
        "plt.plot([2, 3, 4, 5, 6], inertias, marker='')\n",
        "plt.xlabel('Numbers of K')\n",
        "plt.ylabel('inertia')\n",
        "plt.show()"
      ],
      "metadata": {
        "colab": {
          "base_uri": "https://localhost:8080/",
          "height": 290
        },
        "id": "IhlMmbU7rjqf",
        "outputId": "eaad82ae-c386-40be-ccd1-4c22b78d861d"
      },
      "execution_count": 8,
      "outputs": [
        {
          "output_type": "display_data",
          "data": {
            "image/png": "[encoded data removed]",
            "text/plain": [
              "<Figure size 432x288 with 1 Axes>"
            ]
          },
          "metadata": {
            "needs_background": "light"
          }
        }
      ]
    },
    {
      "cell_type": "code",
      "source": [
        "# Create Clusters\n",
        "# let K = 4 based on Elbow Method\n",
        "numOfClusters = 4\n",
        "kmeans = KMeans(n_clusters = numOfClusters)\n",
        "kmeans.fit(X)"
      ],
      "metadata": {
        "colab": {
          "base_uri": "https://localhost:8080/"
        },
        "id": "Vt_XvwH3D102",
        "outputId": "cddc7419-95f9-42e2-a41c-d99782045f95"
      },
      "execution_count": 9,
      "outputs": [
        {
          "output_type": "execute_result",
          "data": {
            "text/plain": [
              "KMeans(n_clusters=4)"
            ]
          },
          "metadata": {},
          "execution_count": 9
        }
      ]
    },
    {
      "cell_type": "code",
      "source": [
        "# Explore the clusters\n",
        "print(kmeans.cluster_centers_)\n",
        "# print(kmeans.labels_)"
      ],
      "metadata": {
        "colab": {
          "base_uri": "https://localhost:8080/"
        },
        "id": "TELmQSGRFCn-",
        "outputId": "65f1634d-2d65-47d8-837a-9059e1312d74"
      },
      "execution_count": 10,
      "outputs": [
        {
          "output_type": "stream",
          "name": "stdout",
          "text": [
            "[[-22.10498122 -45.76831745]\n",
            " [ -9.09683939 -38.67778667]\n",
            " [ -8.27975817 -54.18067099]\n",
            " [-26.63869646 -51.20683797]]\n"
          ]
        }
      ]
    },
    {
      "cell_type": "code",
      "source": [
        "# Visualize K Means with 4 clusters\n",
        "plt.scatter(X[:, 0], X[:, 1], c=kmeans.labels_, cmap=\"rainbow\")"
      ],
      "metadata": {
        "colab": {
          "base_uri": "https://localhost:8080/",
          "height": 282
        },
        "id": "I6QQuHsAFN0z",
        "outputId": "34ec1bf1-f1c6-43cc-d505-0f8c6da736c5"
      },
      "execution_count": 11,
      "outputs": [
        {
          "output_type": "execute_result",
          "data": {
            "text/plain": [
              "<matplotlib.collections.PathCollection at 0x7f0180241a90>"
            ]
          },
          "metadata": {},
          "execution_count": 11
        },
        {
          "output_type": "display_data",
          "data": {
            "image/png": "[encoded data removed]",
            "text/plain": [
              "<Figure size 432x288 with 1 Axes>"
            ]
          },
          "metadata": {
            "needs_background": "light"
          }
        }
      ]
    },
    {
      "cell_type": "markdown",
      "source": [
        "###GMM"
      ],
      "metadata": {
        "id": "HkO5fO2Wts94"
      }
    },
    {
      "cell_type": "code",
      "source": [
        "from sklearn import mixture"
      ],
      "metadata": {
        "id": "zbjvmNCu-5yC"
      },
      "execution_count": 25,
      "outputs": []
    },
    {
      "cell_type": "code",
      "source": [
        "gmm = mixture.GaussianMixture(n_components=4).fit(X)\n",
        "labels = gmm.predict(X)\n",
        "plt.scatter(X[:, 0], X[:, 1], c=labels, s=40, cmap='viridis');"
      ],
      "metadata": {
        "colab": {
          "base_uri": "https://localhost:8080/",
          "height": 265
        },
        "id": "CWtd4UsC-tq6",
        "outputId": "46e35301-e5ef-4316-fd96-66e47f5ba230"
      },
      "execution_count": 26,
      "outputs": [
        {
          "output_type": "display_data",
          "data": {
            "image/png": "[encoded data removed]",
            "text/plain": [
              "<Figure size 432x288 with 1 Axes>"
            ]
          },
          "metadata": {
            "needs_background": "light"
          }
        }
      ]
    },
    {
      "cell_type": "markdown",
      "source": [
        "###Spectral Clustering"
      ],
      "metadata": {
        "id": "voc3jCDKs14a"
      }
    },
    {
      "cell_type": "code",
      "source": [
        "# # Import necessary libraries\n",
        "\n",
        "# from scipy import linalg as LA"
      ],
      "metadata": {
        "id": "EMyhYtTX2klE"
      },
      "execution_count": 12,
      "outputs": []
    },
    {
      "cell_type": "code",
      "source": [
        "# # Define parameters\n",
        "\n",
        "# iterationCounter = 0\n",
        "# variant = 0.3\n",
        "# initCenroidMethod = \"kmeans++\""
      ],
      "metadata": {
        "id": "dg2WWCap0UBg"
      },
      "execution_count": 13,
      "outputs": []
    },
    {
      "cell_type": "code",
      "source": [
        "# def RbfKernel(data1, data2, sigma):\n",
        "#     delta =np.matrix(abs(np.subtract(data1, data2)))\n",
        "#     squaredEuclidean = (np.square(delta).sum(axis=1))\n",
        "#     result = np.exp(-(squaredEuclidean)/(2*sigma**2))\n",
        "#     return result\n",
        "    \n",
        "# def buildSimilarityMatrix(data):\n",
        "#   nData = data.shape[0]\n",
        "#   result = np.matrix(np.full((nData, nData), 0, dtype=np.float))\n",
        "#   for i in range(0, nData):\n",
        "#     for j in range(0, nData):\n",
        "#       weight = RbfKernel(data[i, :], data[j, :], variant)\n",
        "#       result[i, j] = weight\n",
        "#   return result\n",
        "\n",
        "# def buildDegreeMatrix(similarityMatrix):\n",
        "#   diagonal = np.array(similarityMatrix.sum(axis=1)).ravel()\n",
        "#   result = np.diag(diagonal)\n",
        "#   return result\n",
        "\n",
        "# def unnormalizedLaplacian(similarityMatrix, degreeMatrix):\n",
        "#   return degreeMatrix - similarityMatrix\n",
        "\n",
        "# def transformToSpectral(laplacianMatrix):\n",
        "#   global numOfClusters\n",
        "#   eigen_vals, eigen_vecs = LA.eig(np.matrix(laplacianMatrix))\n",
        "#   index = eigen_vals.real.argsort()[:k]\n",
        "#   result = np.ndarray(shape=(laplacianMatrix.shape[0], 0))\n",
        "#   for i in range (1, index.shape[0]):\n",
        "#     cor_eigen_vec = np.transpose(np.matrix(eigen_vecs[:, np.asscalar(index[i])]))\n",
        "#     result = np.concatenate((result, cor_eigen_vec), axis = 1)\n",
        "#   return result"
      ],
      "metadata": {
        "id": "hoAiBqS90nlw"
      },
      "execution_count": 14,
      "outputs": []
    },
    {
      "cell_type": "code",
      "source": [
        "# simMat = buildSimilarityMatrix(X)\n",
        "# degMat = buildDegreeMatrix(simMat)\n",
        "# lapMat = unnormalizedLaplacian(simMat, degMat)\n",
        "# transformedData = transformToSpectral(lapMat)"
      ],
      "metadata": {
        "id": "A7Zo2kn01pcu"
      },
      "execution_count": 15,
      "outputs": []
    },
    {
      "cell_type": "code",
      "source": [
        "# # Import necessary libraries\n",
        "\n",
        "# from scipy.spatial import distance"
      ],
      "metadata": {
        "id": "7mkZ9stlw0QI"
      },
      "execution_count": 16,
      "outputs": []
    },
    {
      "cell_type": "code",
      "source": [
        "# rbf_param = 7.6\n",
        "\n",
        "# K = np.exp(-rbf_param * distance.cdist(X, X, metrix='sqeuclidean'))"
      ],
      "metadata": {
        "id": "r3yj6Vd6w5xv"
      },
      "execution_count": 17,
      "outputs": []
    },
    {
      "cell_type": "code",
      "source": [
        "# D = K.sum(axis=1)\n",
        "# D = np.sqrt(1/D)\n",
        "# M = np.multiply(D[ np.newaxis, :], np.multiply(K, D[:, np.newaxis]))"
      ],
      "metadata": {
        "id": "lAxTmVjcxH29"
      },
      "execution_count": 18,
      "outputs": []
    },
    {
      "cell_type": "markdown",
      "source": [
        "###Agglomerative Clustering"
      ],
      "metadata": {
        "id": "60l8OoNWuYJU"
      }
    },
    {
      "cell_type": "code",
      "source": [
        "# # Import necessary libraries\n",
        "\n",
        "# import scipy.cluster.hierarchy as sch\n",
        "# from sklearn.cluster import AgglomerativeClustering"
      ],
      "metadata": {
        "id": "54zsHQe7tvIC"
      },
      "execution_count": 19,
      "outputs": []
    },
    {
      "cell_type": "code",
      "source": [
        "# dendrogram = sch.dendrogram(sch.linkage(X, method = 'ward'))"
      ],
      "metadata": {
        "id": "L3Yt2ipYuuMb"
      },
      "execution_count": 20,
      "outputs": []
    },
    {
      "cell_type": "code",
      "source": [
        "# # Import necessary libraries\n",
        "\n",
        "# import scipy\n",
        "# from scipy.cluster.hierarchy import dendrogram, linkage, cophenet, fcluster\n",
        "# from scipy.spatial.distance import pdist \n",
        "\n",
        "# import sklearn\n",
        "# from sklearn.cluster import AgglomerativeClustering\n",
        "# import sklearn.metrics as sm"
      ],
      "metadata": {
        "id": "FM-cx7oK82X3"
      },
      "execution_count": 21,
      "outputs": []
    },
    {
      "cell_type": "code",
      "source": [
        "# Z = linkage(X[0], 'ward')"
      ],
      "metadata": {
        "colab": {
          "base_uri": "https://localhost:8080/",
          "height": 311
        },
        "id": "EWXpk1VW9yLJ",
        "outputId": "5a32d0f5-20b1-4c8b-d596-1f785a43a217"
      },
      "execution_count": 22,
      "outputs": [
        {
          "output_type": "error",
          "ename": "ValueError",
          "evalue": "ignored",
          "traceback": [
            "\u001b[0;31m---------------------------------------------------------------------------\u001b[0m",
            "\u001b[0;31mValueError\u001b[0m                                Traceback (most recent call last)",
            "\u001b[0;32m<ipython-input-22-3f97b2481bef>\u001b[0m in \u001b[0;36m<module>\u001b[0;34m()\u001b[0m\n\u001b[0;32m----> 1\u001b[0;31m \u001b[0mZ\u001b[0m \u001b[0;34m=\u001b[0m \u001b[0mlinkage\u001b[0m\u001b[0;34m(\u001b[0m\u001b[0mX\u001b[0m\u001b[0;34m[\u001b[0m\u001b[0;36m0\u001b[0m\u001b[0;34m]\u001b[0m\u001b[0;34m,\u001b[0m \u001b[0;34m'ward'\u001b[0m\u001b[0;34m)\u001b[0m\u001b[0;34m\u001b[0m\u001b[0;34m\u001b[0m\u001b[0m\n\u001b[0m",
            "\u001b[0;32m/usr/local/lib/python3.7/dist-packages/scipy/cluster/hierarchy.py\u001b[0m in \u001b[0;36mlinkage\u001b[0;34m(y, method, metric, optimal_ordering)\u001b[0m\n\u001b[1;32m   1043\u001b[0m \u001b[0;34m\u001b[0m\u001b[0m\n\u001b[1;32m   1044\u001b[0m     \u001b[0;32mif\u001b[0m \u001b[0my\u001b[0m\u001b[0;34m.\u001b[0m\u001b[0mndim\u001b[0m \u001b[0;34m==\u001b[0m \u001b[0;36m1\u001b[0m\u001b[0;34m:\u001b[0m\u001b[0;34m\u001b[0m\u001b[0;34m\u001b[0m\u001b[0m\n\u001b[0;32m-> 1045\u001b[0;31m         \u001b[0mdistance\u001b[0m\u001b[0;34m.\u001b[0m\u001b[0mis_valid_y\u001b[0m\u001b[0;34m(\u001b[0m\u001b[0my\u001b[0m\u001b[0;34m,\u001b[0m \u001b[0mthrow\u001b[0m\u001b[0;34m=\u001b[0m\u001b[0;32mTrue\u001b[0m\u001b[0;34m,\u001b[0m \u001b[0mname\u001b[0m\u001b[0;34m=\u001b[0m\u001b[0;34m'y'\u001b[0m\u001b[0;34m)\u001b[0m\u001b[0;34m\u001b[0m\u001b[0;34m\u001b[0m\u001b[0m\n\u001b[0m\u001b[1;32m   1046\u001b[0m         \u001b[0;34m[\u001b[0m\u001b[0my\u001b[0m\u001b[0;34m]\u001b[0m \u001b[0;34m=\u001b[0m \u001b[0m_copy_arrays_if_base_present\u001b[0m\u001b[0;34m(\u001b[0m\u001b[0;34m[\u001b[0m\u001b[0my\u001b[0m\u001b[0;34m]\u001b[0m\u001b[0;34m)\u001b[0m\u001b[0;34m\u001b[0m\u001b[0;34m\u001b[0m\u001b[0m\n\u001b[1;32m   1047\u001b[0m     \u001b[0;32melif\u001b[0m \u001b[0my\u001b[0m\u001b[0;34m.\u001b[0m\u001b[0mndim\u001b[0m \u001b[0;34m==\u001b[0m \u001b[0;36m2\u001b[0m\u001b[0;34m:\u001b[0m\u001b[0;34m\u001b[0m\u001b[0;34m\u001b[0m\u001b[0m\n",
            "\u001b[0;32m/usr/local/lib/python3.7/dist-packages/scipy/spatial/distance.py\u001b[0m in \u001b[0;36mis_valid_y\u001b[0;34m(y, warning, throw, name)\u001b[0m\n\u001b[1;32m   2346\u001b[0m                                   \u001b[0;34m'\\'%s\\' must be a binomial coefficient, i.e.'\u001b[0m\u001b[0;34m\u001b[0m\u001b[0;34m\u001b[0m\u001b[0m\n\u001b[1;32m   2347\u001b[0m                                   \u001b[0;34m'there must be a k such that '\u001b[0m\u001b[0;34m\u001b[0m\u001b[0;34m\u001b[0m\u001b[0m\n\u001b[0;32m-> 2348\u001b[0;31m                                   '(k \\\\choose 2)=n)!') % name)\n\u001b[0m\u001b[1;32m   2349\u001b[0m             \u001b[0;32melse\u001b[0m\u001b[0;34m:\u001b[0m\u001b[0;34m\u001b[0m\u001b[0;34m\u001b[0m\u001b[0m\n\u001b[1;32m   2350\u001b[0m                 raise ValueError('Length n of condensed distance matrix must '\n",
            "\u001b[0;31mValueError\u001b[0m: Length n of condensed distance matrix 'y' must be a binomial coefficient, i.e.there must be a k such that (k \\choose 2)=n)!"
          ]
        }
      ]
    },
    {
      "cell_type": "markdown",
      "source": [
        "###Reference\n",
        "\n",
        "[2.3. Clustering](https://scikit-learn.org/stable/modules/clustering.html#k-means)\n"
      ],
      "metadata": {
        "id": "1G_foqwFXTXX"
      }
    }
  ]
}